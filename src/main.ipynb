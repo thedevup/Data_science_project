{
 "cells": [
  {
   "cell_type": "code",
   "execution_count": 224,
   "id": "61499e71",
   "metadata": {},
   "outputs": [],
   "source": [
    "import pandas as pd\n",
    "import numpy as np\n",
    "import matplotlib.pyplot as plt\n",
    "from sklearn.decomposition import PCA"
   ]
  },
  {
   "cell_type": "code",
   "execution_count": 225,
   "id": "88b4844b",
   "metadata": {},
   "outputs": [],
   "source": [
    "df_1 = pd.read_excel('../Data/Self assessment and Test Center.xlsx', engine='openpyxl')\n",
    "df_2 = pd.read_excel('../Data/TS2018-2019_AISS.xlsx', engine='openpyxl')\n",
    "df_3 = pd.read_excel('../Data/Variables and questions.xlsx', engine='openpyxl')"
   ]
  },
  {
   "cell_type": "code",
   "execution_count": 226,
   "id": "09d2e461",
   "metadata": {
    "scrolled": true
   },
   "outputs": [
    {
     "name": "stdout",
     "output_type": "stream",
     "text": [
      "<bound method DataFrame.info of                                        Id  lft_jr lft_cat  g  JO_team  Finals  \\\n",
      "0    014419E9-9730-41DC-8813-337E83118E63      12   11_12  1        0       0   \n",
      "1    0373C5A4-0433-421D-81F5-F3D2C4B51251       7   00_08  0        0       0   \n",
      "2    04D241B6-F1BB-4C48-8457-9F9127AE918C       8   00_08  0        0       0   \n",
      "3    0578E3BC-DA4B-4B57-8D6A-F071804FFF2E      11   11_12  0        0       0   \n",
      "4    06441EB7-3B47-453A-A71B-614B576B7215       8   00_08  1        0       0   \n",
      "..                                    ...     ...     ... ..      ...     ...   \n",
      "273  F678B02A-F941-4D03-833F-276BBBCE7475      10   09_10  0        0       0   \n",
      "274  F9C7E58D-CDDC-494C-8124-BD07B97F5217       9   09_10  0        0       0   \n",
      "275  FC06A844-0A2F-4027-BB6B-5D92B35951AC      10   09_10  0        0       0   \n",
      "276  FE4BA400-8125-45A9-967C-5910D20824D4      12   11_12  0        0       0   \n",
      "277  FECB0630-8FEE-4F4F-82D3-6F748A5E707E      11   11_12  0        0       0   \n",
      "\n",
      "     X01_01  X01_02  X01_03  X01_04  ...  X108_02  X108_03  X108_04  X108_05  \\\n",
      "0         5       5       5       5  ...        4        0       71        1   \n",
      "1         4       4       4       5  ...        4        0       56        4   \n",
      "2         4       5       5       5  ...        5        0       53        5   \n",
      "3         4       4       4       5  ...        2        2       51        1   \n",
      "4         1       5       5       5  ...        3        3       56        1   \n",
      "..      ...     ...     ...     ...  ...      ...      ...      ...      ...   \n",
      "273       5       5       4       5  ...        4        0       81        1   \n",
      "274       5       5       5       5  ...        5        0       75        4   \n",
      "275       5       5       5       5  ...        3        0       78        3   \n",
      "276       5       5       5       5  ...        1        0       61        4   \n",
      "277       4       5       4       5  ...        2        1        0        4   \n",
      "\n",
      "     X109_01  X109_02  X109_04  X109_06  X109_07  X109_08  \n",
      "0          3        3        3        1      162     49.0  \n",
      "1          4        1        1        1      145      0.0  \n",
      "2          5        3        4        3        0     24.0  \n",
      "3          3        5        4        4      142      NaN  \n",
      "4          2        3        3        4      129      NaN  \n",
      "..       ...      ...      ...      ...      ...      ...  \n",
      "273        3        3        3        1      159      0.0  \n",
      "274        3        4        2        1      150      0.0  \n",
      "275        1        3        4        3      149     36.0  \n",
      "276        1        1        3        1      162     42.0  \n",
      "277        4        3        5        5      141     33.0  \n",
      "\n",
      "[278 rows x 103 columns]>\n"
     ]
    }
   ],
   "source": [
    "print(df_1.info)\n",
    "# print(df_2.head())\n",
    "# print(df_3.head())"
   ]
  },
  {
   "cell_type": "code",
   "execution_count": 227,
   "id": "bd87d33e",
   "metadata": {
    "scrolled": true
   },
   "outputs": [],
   "source": [
    "# Calculating BMI from weight and height\n",
    "# Formula : ( weight (kg) / height (cm) / height (cm) )x 10,000\n",
    "df_1['bmi'] = ((df_1['X109_08']/df_1['X109_07']/df_1['X109_07'])*10000).round(2)\n",
    "\n",
    "# Some rows for both weight and height have the value 0\n",
    "df_1.loc[df_1['X109_07'] == 0]\n",
    "df_1.loc[df_1['X109_08'] == 0]\n",
    "\n",
    "# That results in some rows in bmi having the values 0 or inf\n",
    "df_1['bmi'].head(10)\n",
    "\n",
    "# We remove rows with the value 'inf'\n",
    "df_1 = df_1[df_1['bmi'] != float(\"inf\")]"
   ]
  },
  {
   "cell_type": "code",
   "execution_count": 228,
   "id": "b405e550",
   "metadata": {},
   "outputs": [
    {
     "name": "stdout",
     "output_type": "stream",
     "text": [
      "   lft_jr  g  JO_team  Finals  X01_01  X01_02  X01_03  X01_04  X01_05  X01_06  \\\n",
      "0      12  1        0       0       5       5       5       5       5       5   \n",
      "1       7  0        0       0       4       4       4       5       5       5   \n",
      "3      11  0        0       0       4       4       4       5       4       5   \n",
      "4       8  1        0       0       1       5       5       5       5       5   \n",
      "5       8  0        0       0       3       5       5       5       5       5   \n",
      "\n",
      "   ...  X108_03  X108_04  X108_05  X109_01  X109_02  X109_04  X109_06  \\\n",
      "0  ...        0       71        1        3        3        3        1   \n",
      "1  ...        0       56        4        4        1        1        1   \n",
      "3  ...        2       51        1        3        5        4        4   \n",
      "4  ...        3       56        1        2        3        3        4   \n",
      "5  ...        0       66        5        5        3        5        3   \n",
      "\n",
      "   X109_07  X109_08    bmi  \n",
      "0      162     49.0  18.67  \n",
      "1      145      0.0   0.00  \n",
      "3      142      NaN    NaN  \n",
      "4      129      NaN    NaN  \n",
      "5      146     38.0  17.83  \n",
      "\n",
      "[5 rows x 102 columns]\n"
     ]
    }
   ],
   "source": [
    "# Getting rid of none necessary columns, which in our case are the nominal ones\n",
    "numeric_columns = df_1.select_dtypes(include=['int8', 'int16', 'int32', 'int64', 'float16', 'float32', 'float64']).columns\n",
    "df_1 = df_1[numeric_columns]\n",
    "print(df_1.head())"
   ]
  },
  {
   "cell_type": "code",
   "execution_count": 229,
   "id": "668b8e41",
   "metadata": {
    "scrolled": true
   },
   "outputs": [
    {
     "data": {
      "text/plain": [
       "0      71\n",
       "1      56\n",
       "3      51\n",
       "4      56\n",
       "5      66\n",
       "       ..\n",
       "273    81\n",
       "274    75\n",
       "275    78\n",
       "276    61\n",
       "277     0\n",
       "Name: X108_04, Length: 275, dtype: int64"
      ]
     },
     "execution_count": 229,
     "metadata": {},
     "output_type": "execute_result"
    }
   ],
   "source": [
    "df_1.X108_04"
   ]
  },
  {
   "cell_type": "code",
   "execution_count": 230,
   "id": "4f800779",
   "metadata": {},
   "outputs": [],
   "source": [
    "# Select the column to transform\n",
    "column = df_1[\"X108_04\"]\n",
    "\n",
    "# Normalize the values in the column\n",
    "min_value = column.min()\n",
    "max_value = column.max()\n",
    "normalized_column = (column - min_value) / (max_value - min_value)\n",
    "\n",
    "# Transform the values to a Likert scale\n",
    "likert_column = normalized_column * 5\n",
    "\n",
    "# Round the values to the nearest integer\n",
    "likert_column = np.round(likert_column)\n",
    "\n",
    "# Replace the original column with the Likert scale column\n",
    "df_1[\"X108_04\"] = likert_column"
   ]
  },
  {
   "cell_type": "code",
   "execution_count": 231,
   "id": "654bc9c0",
   "metadata": {
    "scrolled": true
   },
   "outputs": [
    {
     "data": {
      "text/plain": [
       "0      3.0\n",
       "1      3.0\n",
       "3      2.0\n",
       "4      3.0\n",
       "5      3.0\n",
       "      ... \n",
       "273    4.0\n",
       "274    3.0\n",
       "275    4.0\n",
       "276    3.0\n",
       "277    0.0\n",
       "Name: X108_04, Length: 275, dtype: float64"
      ]
     },
     "execution_count": 231,
     "metadata": {},
     "output_type": "execute_result"
    }
   ],
   "source": [
    "df_1[\"X108_04\"]"
   ]
  },
  {
   "cell_type": "code",
   "execution_count": 232,
   "id": "178b9be9",
   "metadata": {},
   "outputs": [
    {
     "data": {
      "image/png": "[encoded data removed]",
      "text/plain": [
       "<Figure size 432x288 with 2 Axes>"
      ]
     },
     "metadata": {
      "needs_background": "light"
     },
     "output_type": "display_data"
    }
   ],
   "source": [
    "# Compute the correlation matrix\n",
    "corr = df_1.corr()\n",
    "\n",
    "# Plot the correlation matrix using a heatmap\n",
    "plt.figure()\n",
    "plt.imshow(corr, cmap='hot', interpolation='nearest')\n",
    "plt.colorbar()\n",
    "plt.xticks(range(len(df_1.columns)), df_1.columns, rotation=45)\n",
    "plt.yticks(range(len(df_1.columns)), df_1.columns)\n",
    "plt.show()"
   ]
  },
  {
   "cell_type": "code",
   "execution_count": 249,
   "id": "cc505326",
   "metadata": {},
   "outputs": [
    {
     "data": {
      "text/html": [
       "<div>\n",
       "<style scoped>\n",
       "    .dataframe tbody tr th:only-of-type {\n",
       "        vertical-align: middle;\n",
       "    }\n",
       "\n",
       "    .dataframe tbody tr th {\n",
       "        vertical-align: top;\n",
       "    }\n",
       "\n",
       "    .dataframe thead th {\n",
       "        text-align: right;\n",
       "    }\n",
       "</style>\n",
       "<table border=\"1\" class=\"dataframe\">\n",
       "  <thead>\n",
       "    <tr style=\"text-align: right;\">\n",
       "      <th></th>\n",
       "      <th>lft_jr</th>\n",
       "      <th>g</th>\n",
       "      <th>JO_team</th>\n",
       "      <th>Finals</th>\n",
       "      <th>X01_01</th>\n",
       "      <th>X01_02</th>\n",
       "      <th>X01_03</th>\n",
       "      <th>X01_04</th>\n",
       "      <th>X01_05</th>\n",
       "      <th>X01_06</th>\n",
       "      <th>...</th>\n",
       "      <th>X108_03</th>\n",
       "      <th>X108_04</th>\n",
       "      <th>X108_05</th>\n",
       "      <th>X109_01</th>\n",
       "      <th>X109_02</th>\n",
       "      <th>X109_04</th>\n",
       "      <th>X109_06</th>\n",
       "      <th>X109_07</th>\n",
       "      <th>X109_08</th>\n",
       "      <th>bmi</th>\n",
       "    </tr>\n",
       "  </thead>\n",
       "  <tbody>\n",
       "    <tr>\n",
       "      <th>lft_jr</th>\n",
       "      <td>1.000000</td>\n",
       "      <td>0.328159</td>\n",
       "      <td>-0.058770</td>\n",
       "      <td>-0.006069</td>\n",
       "      <td>0.107672</td>\n",
       "      <td>0.049196</td>\n",
       "      <td>0.097921</td>\n",
       "      <td>-0.062396</td>\n",
       "      <td>-0.064622</td>\n",
       "      <td>0.026393</td>\n",
       "      <td>...</td>\n",
       "      <td>0.010405</td>\n",
       "      <td>0.227358</td>\n",
       "      <td>-0.062498</td>\n",
       "      <td>0.038897</td>\n",
       "      <td>0.030029</td>\n",
       "      <td>0.069968</td>\n",
       "      <td>0.183397</td>\n",
       "      <td>0.799953</td>\n",
       "      <td>0.688292</td>\n",
       "      <td>0.490213</td>\n",
       "    </tr>\n",
       "    <tr>\n",
       "      <th>g</th>\n",
       "      <td>0.328159</td>\n",
       "      <td>1.000000</td>\n",
       "      <td>-0.065547</td>\n",
       "      <td>-0.087235</td>\n",
       "      <td>0.044580</td>\n",
       "      <td>0.067304</td>\n",
       "      <td>0.069905</td>\n",
       "      <td>0.048791</td>\n",
       "      <td>-0.027318</td>\n",
       "      <td>0.071883</td>\n",
       "      <td>...</td>\n",
       "      <td>-0.054447</td>\n",
       "      <td>0.046613</td>\n",
       "      <td>-0.088229</td>\n",
       "      <td>-0.053144</td>\n",
       "      <td>-0.203224</td>\n",
       "      <td>-0.114587</td>\n",
       "      <td>-0.066887</td>\n",
       "      <td>0.204885</td>\n",
       "      <td>0.258635</td>\n",
       "      <td>0.230562</td>\n",
       "    </tr>\n",
       "    <tr>\n",
       "      <th>JO_team</th>\n",
       "      <td>-0.058770</td>\n",
       "      <td>-0.065547</td>\n",
       "      <td>1.000000</td>\n",
       "      <td>0.334791</td>\n",
       "      <td>0.060121</td>\n",
       "      <td>0.051716</td>\n",
       "      <td>-0.001704</td>\n",
       "      <td>0.044841</td>\n",
       "      <td>0.056504</td>\n",
       "      <td>0.041377</td>\n",
       "      <td>...</td>\n",
       "      <td>0.014886</td>\n",
       "      <td>-0.159881</td>\n",
       "      <td>0.078128</td>\n",
       "      <td>0.009247</td>\n",
       "      <td>-0.015689</td>\n",
       "      <td>0.031175</td>\n",
       "      <td>0.032720</td>\n",
       "      <td>-0.037533</td>\n",
       "      <td>0.013992</td>\n",
       "      <td>0.030451</td>\n",
       "    </tr>\n",
       "    <tr>\n",
       "      <th>Finals</th>\n",
       "      <td>-0.006069</td>\n",
       "      <td>-0.087235</td>\n",
       "      <td>0.334791</td>\n",
       "      <td>1.000000</td>\n",
       "      <td>-0.054325</td>\n",
       "      <td>-0.050283</td>\n",
       "      <td>-0.032015</td>\n",
       "      <td>0.035978</td>\n",
       "      <td>-0.072960</td>\n",
       "      <td>0.102765</td>\n",
       "      <td>...</td>\n",
       "      <td>0.134997</td>\n",
       "      <td>-0.109445</td>\n",
       "      <td>0.077200</td>\n",
       "      <td>0.068542</td>\n",
       "      <td>0.042182</td>\n",
       "      <td>-0.043605</td>\n",
       "      <td>0.172023</td>\n",
       "      <td>-0.053828</td>\n",
       "      <td>0.059097</td>\n",
       "      <td>0.077064</td>\n",
       "    </tr>\n",
       "    <tr>\n",
       "      <th>X01_01</th>\n",
       "      <td>0.107672</td>\n",
       "      <td>0.044580</td>\n",
       "      <td>0.060121</td>\n",
       "      <td>-0.054325</td>\n",
       "      <td>1.000000</td>\n",
       "      <td>0.140912</td>\n",
       "      <td>0.308647</td>\n",
       "      <td>0.090244</td>\n",
       "      <td>0.152171</td>\n",
       "      <td>0.027591</td>\n",
       "      <td>...</td>\n",
       "      <td>0.053744</td>\n",
       "      <td>0.005233</td>\n",
       "      <td>-0.032247</td>\n",
       "      <td>0.017057</td>\n",
       "      <td>0.014585</td>\n",
       "      <td>-0.042857</td>\n",
       "      <td>0.049942</td>\n",
       "      <td>0.116047</td>\n",
       "      <td>0.023697</td>\n",
       "      <td>0.006335</td>\n",
       "    </tr>\n",
       "    <tr>\n",
       "      <th>...</th>\n",
       "      <td>...</td>\n",
       "      <td>...</td>\n",
       "      <td>...</td>\n",
       "      <td>...</td>\n",
       "      <td>...</td>\n",
       "      <td>...</td>\n",
       "      <td>...</td>\n",
       "      <td>...</td>\n",
       "      <td>...</td>\n",
       "      <td>...</td>\n",
       "      <td>...</td>\n",
       "      <td>...</td>\n",
       "      <td>...</td>\n",
       "      <td>...</td>\n",
       "      <td>...</td>\n",
       "      <td>...</td>\n",
       "      <td>...</td>\n",
       "      <td>...</td>\n",
       "      <td>...</td>\n",
       "      <td>...</td>\n",
       "      <td>...</td>\n",
       "    </tr>\n",
       "    <tr>\n",
       "      <th>X109_04</th>\n",
       "      <td>0.069968</td>\n",
       "      <td>-0.114587</td>\n",
       "      <td>0.031175</td>\n",
       "      <td>-0.043605</td>\n",
       "      <td>-0.042857</td>\n",
       "      <td>-0.087112</td>\n",
       "      <td>-0.061073</td>\n",
       "      <td>0.119710</td>\n",
       "      <td>0.105133</td>\n",
       "      <td>-0.032928</td>\n",
       "      <td>...</td>\n",
       "      <td>-0.011609</td>\n",
       "      <td>-0.042263</td>\n",
       "      <td>0.139656</td>\n",
       "      <td>0.271761</td>\n",
       "      <td>0.260721</td>\n",
       "      <td>1.000000</td>\n",
       "      <td>0.198155</td>\n",
       "      <td>0.069311</td>\n",
       "      <td>0.068111</td>\n",
       "      <td>0.069877</td>\n",
       "    </tr>\n",
       "    <tr>\n",
       "      <th>X109_06</th>\n",
       "      <td>0.183397</td>\n",
       "      <td>-0.066887</td>\n",
       "      <td>0.032720</td>\n",
       "      <td>0.172023</td>\n",
       "      <td>0.049942</td>\n",
       "      <td>0.041674</td>\n",
       "      <td>0.033432</td>\n",
       "      <td>0.053502</td>\n",
       "      <td>-0.021817</td>\n",
       "      <td>-0.024887</td>\n",
       "      <td>...</td>\n",
       "      <td>0.315275</td>\n",
       "      <td>-0.443014</td>\n",
       "      <td>-0.012048</td>\n",
       "      <td>0.262707</td>\n",
       "      <td>0.401917</td>\n",
       "      <td>0.198155</td>\n",
       "      <td>1.000000</td>\n",
       "      <td>0.024888</td>\n",
       "      <td>0.237994</td>\n",
       "      <td>0.273518</td>\n",
       "    </tr>\n",
       "    <tr>\n",
       "      <th>X109_07</th>\n",
       "      <td>0.799953</td>\n",
       "      <td>0.204885</td>\n",
       "      <td>-0.037533</td>\n",
       "      <td>-0.053828</td>\n",
       "      <td>0.116047</td>\n",
       "      <td>0.045897</td>\n",
       "      <td>0.137988</td>\n",
       "      <td>-0.087631</td>\n",
       "      <td>-0.072331</td>\n",
       "      <td>0.012246</td>\n",
       "      <td>...</td>\n",
       "      <td>-0.121497</td>\n",
       "      <td>0.332762</td>\n",
       "      <td>0.020358</td>\n",
       "      <td>0.095157</td>\n",
       "      <td>0.047811</td>\n",
       "      <td>0.069311</td>\n",
       "      <td>0.024888</td>\n",
       "      <td>1.000000</td>\n",
       "      <td>0.674930</td>\n",
       "      <td>0.367682</td>\n",
       "    </tr>\n",
       "    <tr>\n",
       "      <th>X109_08</th>\n",
       "      <td>0.688292</td>\n",
       "      <td>0.258635</td>\n",
       "      <td>0.013992</td>\n",
       "      <td>0.059097</td>\n",
       "      <td>0.023697</td>\n",
       "      <td>-0.014183</td>\n",
       "      <td>0.024076</td>\n",
       "      <td>-0.047296</td>\n",
       "      <td>-0.143070</td>\n",
       "      <td>-0.052134</td>\n",
       "      <td>...</td>\n",
       "      <td>0.029255</td>\n",
       "      <td>0.146033</td>\n",
       "      <td>0.022907</td>\n",
       "      <td>0.091455</td>\n",
       "      <td>0.065466</td>\n",
       "      <td>0.068111</td>\n",
       "      <td>0.237994</td>\n",
       "      <td>0.674930</td>\n",
       "      <td>1.000000</td>\n",
       "      <td>0.922061</td>\n",
       "    </tr>\n",
       "    <tr>\n",
       "      <th>bmi</th>\n",
       "      <td>0.490213</td>\n",
       "      <td>0.230562</td>\n",
       "      <td>0.030451</td>\n",
       "      <td>0.077064</td>\n",
       "      <td>0.006335</td>\n",
       "      <td>-0.020241</td>\n",
       "      <td>-0.012207</td>\n",
       "      <td>-0.009762</td>\n",
       "      <td>-0.114294</td>\n",
       "      <td>-0.085762</td>\n",
       "      <td>...</td>\n",
       "      <td>0.077516</td>\n",
       "      <td>0.022969</td>\n",
       "      <td>0.047808</td>\n",
       "      <td>0.084194</td>\n",
       "      <td>0.039396</td>\n",
       "      <td>0.069877</td>\n",
       "      <td>0.273518</td>\n",
       "      <td>0.367682</td>\n",
       "      <td>0.922061</td>\n",
       "      <td>1.000000</td>\n",
       "    </tr>\n",
       "  </tbody>\n",
       "</table>\n",
       "<p>102 rows × 102 columns</p>\n",
       "</div>"
      ],
      "text/plain": [
       "           lft_jr         g   JO_team    Finals    X01_01    X01_02    X01_03  \\\n",
       "lft_jr   1.000000  0.328159 -0.058770 -0.006069  0.107672  0.049196  0.097921   \n",
       "g        0.328159  1.000000 -0.065547 -0.087235  0.044580  0.067304  0.069905   \n",
       "JO_team -0.058770 -0.065547  1.000000  0.334791  0.060121  0.051716 -0.001704   \n",
       "Finals  -0.006069 -0.087235  0.334791  1.000000 -0.054325 -0.050283 -0.032015   \n",
       "X01_01   0.107672  0.044580  0.060121 -0.054325  1.000000  0.140912  0.308647   \n",
       "...           ...       ...       ...       ...       ...       ...       ...   \n",
       "X109_04  0.069968 -0.114587  0.031175 -0.043605 -0.042857 -0.087112 -0.061073   \n",
       "X109_06  0.183397 -0.066887  0.032720  0.172023  0.049942  0.041674  0.033432   \n",
       "X109_07  0.799953  0.204885 -0.037533 -0.053828  0.116047  0.045897  0.137988   \n",
       "X109_08  0.688292  0.258635  0.013992  0.059097  0.023697 -0.014183  0.024076   \n",
       "bmi      0.490213  0.230562  0.030451  0.077064  0.006335 -0.020241 -0.012207   \n",
       "\n",
       "           X01_04    X01_05    X01_06  ...   X108_03   X108_04   X108_05  \\\n",
       "lft_jr  -0.062396 -0.064622  0.026393  ...  0.010405  0.227358 -0.062498   \n",
       "g        0.048791 -0.027318  0.071883  ... -0.054447  0.046613 -0.088229   \n",
       "JO_team  0.044841  0.056504  0.041377  ...  0.014886 -0.159881  0.078128   \n",
       "Finals   0.035978 -0.072960  0.102765  ...  0.134997 -0.109445  0.077200   \n",
       "X01_01   0.090244  0.152171  0.027591  ...  0.053744  0.005233 -0.032247   \n",
       "...           ...       ...       ...  ...       ...       ...       ...   \n",
       "X109_04  0.119710  0.105133 -0.032928  ... -0.011609 -0.042263  0.139656   \n",
       "X109_06  0.053502 -0.021817 -0.024887  ...  0.315275 -0.443014 -0.012048   \n",
       "X109_07 -0.087631 -0.072331  0.012246  ... -0.121497  0.332762  0.020358   \n",
       "X109_08 -0.047296 -0.143070 -0.052134  ...  0.029255  0.146033  0.022907   \n",
       "bmi     -0.009762 -0.114294 -0.085762  ...  0.077516  0.022969  0.047808   \n",
       "\n",
       "          X109_01   X109_02   X109_04   X109_06   X109_07   X109_08       bmi  \n",
       "lft_jr   0.038897  0.030029  0.069968  0.183397  0.799953  0.688292  0.490213  \n",
       "g       -0.053144 -0.203224 -0.114587 -0.066887  0.204885  0.258635  0.230562  \n",
       "JO_team  0.009247 -0.015689  0.031175  0.032720 -0.037533  0.013992  0.030451  \n",
       "Finals   0.068542  0.042182 -0.043605  0.172023 -0.053828  0.059097  0.077064  \n",
       "X01_01   0.017057  0.014585 -0.042857  0.049942  0.116047  0.023697  0.006335  \n",
       "...           ...       ...       ...       ...       ...       ...       ...  \n",
       "X109_04  0.271761  0.260721  1.000000  0.198155  0.069311  0.068111  0.069877  \n",
       "X109_06  0.262707  0.401917  0.198155  1.000000  0.024888  0.237994  0.273518  \n",
       "X109_07  0.095157  0.047811  0.069311  0.024888  1.000000  0.674930  0.367682  \n",
       "X109_08  0.091455  0.065466  0.068111  0.237994  0.674930  1.000000  0.922061  \n",
       "bmi      0.084194  0.039396  0.069877  0.273518  0.367682  0.922061  1.000000  \n",
       "\n",
       "[102 rows x 102 columns]"
      ]
     },
     "execution_count": 249,
     "metadata": {},
     "output_type": "execute_result"
    }
   ],
   "source": [
    "corr"
   ]
  },
  {
   "cell_type": "markdown",
   "id": "6c263717",
   "metadata": {},
   "source": [
    "# Removing rows with missing values"
   ]
  },
  {
   "cell_type": "code",
   "execution_count": 233,
   "id": "8ae0763a",
   "metadata": {},
   "outputs": [],
   "source": [
    "# Remove rows with missing values\n",
    "df_1 = df_1.dropna()"
   ]
  },
  {
   "cell_type": "code",
   "execution_count": 234,
   "id": "3348a3ee",
   "metadata": {},
   "outputs": [
    {
     "data": {
      "text/plain": [
       "<bound method DataFrame.info of      lft_jr  g  JO_team  Finals  X01_01  X01_02  X01_03  X01_04  X01_05  \\\n",
       "0        12  1        0       0       5       5       5       5       5   \n",
       "1         7  0        0       0       4       4       4       5       5   \n",
       "5         8  0        0       0       3       5       5       5       5   \n",
       "6        15  0        0       1       2       4       4       5       5   \n",
       "7        12  0        0       0       5       5       5       5       5   \n",
       "..      ... ..      ...     ...     ...     ...     ...     ...     ...   \n",
       "273      10  0        0       0       5       5       4       5       5   \n",
       "274       9  0        0       0       5       5       5       5       5   \n",
       "275      10  0        0       0       5       5       5       5       5   \n",
       "276      12  0        0       0       5       5       5       5       5   \n",
       "277      11  0        0       0       4       5       4       5       5   \n",
       "\n",
       "     X01_06  ...  X108_03  X108_04  X108_05  X109_01  X109_02  X109_04  \\\n",
       "0         5  ...        0      3.0        1        3        3        3   \n",
       "1         5  ...        0      3.0        4        4        1        1   \n",
       "5         5  ...        0      3.0        5        5        3        5   \n",
       "6         5  ...        2      5.0        3        3        3        5   \n",
       "7         5  ...        0      4.0        4        2        5        5   \n",
       "..      ...  ...      ...      ...      ...      ...      ...      ...   \n",
       "273       5  ...        0      4.0        1        3        3        3   \n",
       "274       5  ...        0      3.0        4        3        4        2   \n",
       "275       4  ...        0      4.0        3        1        3        4   \n",
       "276       5  ...        0      3.0        4        1        1        3   \n",
       "277       5  ...        1      0.0        4        4        3        5   \n",
       "\n",
       "     X109_06  X109_07  X109_08    bmi  \n",
       "0          1      162     49.0  18.67  \n",
       "1          1      145      0.0   0.00  \n",
       "5          3      146     38.0  17.83  \n",
       "6          4      179     63.0  19.66  \n",
       "7          3      153     39.0  16.66  \n",
       "..       ...      ...      ...    ...  \n",
       "273        1      159      0.0   0.00  \n",
       "274        1      150      0.0   0.00  \n",
       "275        3      149     36.0  16.22  \n",
       "276        1      162     42.0  16.00  \n",
       "277        5      141     33.0  16.60  \n",
       "\n",
       "[258 rows x 102 columns]>"
      ]
     },
     "execution_count": 234,
     "metadata": {},
     "output_type": "execute_result"
    }
   ],
   "source": [
    "df_1.info"
   ]
  },
  {
   "cell_type": "markdown",
   "id": "c2f9d0ef",
   "metadata": {},
   "source": [
    "# Standardize the Data\n",
    "PCA is affected by the scale, so we have to scale the features using. StandardScaler whcih will help us standardize the dataset’s features onto unit scale (mean = 0 and variance = 1)"
   ]
  },
  {
   "cell_type": "code",
   "execution_count": 235,
   "id": "5b3f3f88",
   "metadata": {
    "scrolled": true
   },
   "outputs": [
    {
     "name": "stdout",
     "output_type": "stream",
     "text": [
      "258\n"
     ]
    }
   ],
   "source": [
    "pca = PCA(n_components = 0.95)\n",
    "df_1_pca = pca.fit_transform(df_1)\n",
    "\n",
    "print(len(df_1_pca))"
   ]
  },
  {
   "cell_type": "code",
   "execution_count": 236,
   "id": "e0eb5b57",
   "metadata": {
    "scrolled": false
   },
   "outputs": [
    {
     "name": "stdout",
     "output_type": "stream",
     "text": [
      "[0.73029593 0.14271851 0.01507565 0.00866052 0.00847391 0.00709649\n",
      " 0.0052919  0.00420121 0.00361644 0.00356836 0.00318278 0.00300511\n",
      " 0.00273467 0.00260261 0.00252977 0.00230722 0.00228115 0.00208498\n",
      " 0.00199429]\n"
     ]
    }
   ],
   "source": [
    "print(pca.explained_variance_ratio_)"
   ]
  },
  {
   "cell_type": "markdown",
   "id": "54cbff4a",
   "metadata": {},
   "source": [
    "## Spliting the dataframe into training and testing sets"
   ]
  },
  {
   "cell_type": "code",
   "execution_count": 277,
   "id": "e1f8a385",
   "metadata": {},
   "outputs": [],
   "source": [
    "from sklearn.model_selection import train_test_split\n",
    "\n",
    "# Split the data into input and output variables\n",
    "X = df_1.drop('Finals', axis=1)\n",
    "y = df_1['Finals']\n",
    "\n",
    "# Split the data into training and testing sets\n",
    "X_train, X_test, y_train, y_test = train_test_split(X, y, test_size=0.2)"
   ]
  },
  {
   "cell_type": "markdown",
   "id": "b96c2fcc",
   "metadata": {},
   "source": [
    "# Applyinh logistic regression"
   ]
  },
  {
   "cell_type": "code",
   "execution_count": 278,
   "id": "ebc9e6fe",
   "metadata": {
    "scrolled": true
   },
   "outputs": [
    {
     "name": "stdout",
     "output_type": "stream",
     "text": [
      "0.8461538461538461\n"
     ]
    },
    {
     "name": "stderr",
     "output_type": "stream",
     "text": [
      "/Users/gebruiker/opt/anaconda3/lib/python3.8/site-packages/sklearn/linear_model/_logistic.py:444: ConvergenceWarning: lbfgs failed to converge (status=1):\n",
      "STOP: TOTAL NO. of ITERATIONS REACHED LIMIT.\n",
      "\n",
      "Increase the number of iterations (max_iter) or scale the data as shown in:\n",
      "    https://scikit-learn.org/stable/modules/preprocessing.html\n",
      "Please also refer to the documentation for alternative solver options:\n",
      "    https://scikit-learn.org/stable/modules/linear_model.html#logistic-regression\n",
      "  n_iter_i = _check_optimize_result(\n"
     ]
    }
   ],
   "source": [
    "from sklearn.linear_model import LogisticRegression\n",
    "from sklearn.metrics import accuracy_score\n",
    "\n",
    "# Train the logistic regression model\n",
    "model = LogisticRegression()\n",
    "model.fit(X_train, y_train)\n",
    "\n",
    "# Make predictions on new data\n",
    "y_pred = model.predict(X_test)\n",
    "\n",
    "# Calculate the accuracy of the model\n",
    "accuracy = accuracy_score(y_test, y_pred)\n",
    "print(accuracy)"
   ]
  },
  {
   "cell_type": "markdown",
   "id": "befdb3c5",
   "metadata": {},
   "source": [
    "# Applying KNN"
   ]
  },
  {
   "cell_type": "code",
   "execution_count": 279,
   "id": "04435b15",
   "metadata": {
    "scrolled": true
   },
   "outputs": [
    {
     "name": "stdout",
     "output_type": "stream",
     "text": [
      "0.8846153846153846\n"
     ]
    }
   ],
   "source": [
    "from sklearn.neighbors import KNeighborsClassifier\n",
    "neigh = KNeighborsClassifier(n_neighbors=10)\n",
    "\n",
    "# Training the model\n",
    "neigh.fit(X_train, y_train)\n",
    "\n",
    "# Make predictions on new data\n",
    "y_pred = neigh.predict(X_test)\n",
    "\n",
    "# Calculate the accuracy of the model\n",
    "accuracy = accuracy_score(y_test, y_pred)\n",
    "print(accuracy)"
   ]
  },
  {
   "cell_type": "markdown",
   "id": "5b4778ce",
   "metadata": {},
   "source": [
    "# Applying Naive Bayes"
   ]
  },
  {
   "cell_type": "code",
   "execution_count": 283,
   "id": "edc671f5",
   "metadata": {},
   "outputs": [
    {
     "name": "stdout",
     "output_type": "stream",
     "text": [
      "0.8653846153846154\n"
     ]
    }
   ],
   "source": [
    "from sklearn.naive_bayes import GaussianNB\n",
    "clf = GaussianNB()\n",
    "\n",
    "# Training the model\n",
    "clf.fit(X_train, y_train)\n",
    "\n",
    "# Make predictions on new data\n",
    "y_pred = clf.predict(X_test)\n",
    "\n",
    "# Calculate the accuracy of the model\n",
    "accuracy = accuracy_score(y_test, y_pred)\n",
    "print(accuracy)"
   ]
  }
 ],
 "metadata": {
  "kernelspec": {
   "display_name": "Python 3",
   "language": "python",
   "name": "python3"
  },
  "language_info": {
   "codemirror_mode": {
    "name": "ipython",
    "version": 3
   },
   "file_extension": ".py",
   "mimetype": "text/x-python",
   "name": "python",
   "nbconvert_exporter": "python",
   "pygments_lexer": "ipython3",
   "version": "3.8.8"
  }
 },
 "nbformat": 4,
 "nbformat_minor": 5
}
