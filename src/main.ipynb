{
 "cells": [
  {
   "cell_type": "code",
   "execution_count": 11,
   "id": "61499e71",
   "metadata": {},
   "outputs": [],
   "source": [
    "import pandas as pd\n",
    "import numpy as np\n",
    "import matplotlib.pyplot as plt"
   ]
  },
  {
   "cell_type": "code",
   "execution_count": 12,
   "id": "88b4844b",
   "metadata": {},
   "outputs": [],
   "source": [
    "df_1 = pd.read_excel('../Data/Self assessment and Test Center.xlsx', engine='openpyxl')\n",
    "df_2 = pd.read_excel('../Data/TS2018-2019_AISS.xlsx', engine='openpyxl')\n",
    "df_3 = pd.read_excel('../Data/Variables and questions.xlsx', engine='openpyxl')"
   ]
  },
  {
   "cell_type": "code",
   "execution_count": 16,
   "id": "09d2e461",
   "metadata": {
    "scrolled": true
   },
   "outputs": [
    {
     "name": "stdout",
     "output_type": "stream",
     "text": [
      "<bound method DataFrame.info of                                        Id  lft_jr lft_cat  g  JO_team  Finals  \\\n",
      "0    014419E9-9730-41DC-8813-337E83118E63      12   11_12  1        0       0   \n",
      "1    0373C5A4-0433-421D-81F5-F3D2C4B51251       7   00_08  0        0       0   \n",
      "2    04D241B6-F1BB-4C48-8457-9F9127AE918C       8   00_08  0        0       0   \n",
      "3    0578E3BC-DA4B-4B57-8D6A-F071804FFF2E      11   11_12  0        0       0   \n",
      "4    06441EB7-3B47-453A-A71B-614B576B7215       8   00_08  1        0       0   \n",
      "..                                    ...     ...     ... ..      ...     ...   \n",
      "273  F678B02A-F941-4D03-833F-276BBBCE7475      10   09_10  0        0       0   \n",
      "274  F9C7E58D-CDDC-494C-8124-BD07B97F5217       9   09_10  0        0       0   \n",
      "275  FC06A844-0A2F-4027-BB6B-5D92B35951AC      10   09_10  0        0       0   \n",
      "276  FE4BA400-8125-45A9-967C-5910D20824D4      12   11_12  0        0       0   \n",
      "277  FECB0630-8FEE-4F4F-82D3-6F748A5E707E      11   11_12  0        0       0   \n",
      "\n",
      "     X01_01  X01_02  X01_03  X01_04  ...  X108_02  X108_03  X108_04  X108_05  \\\n",
      "0         5       5       5       5  ...        4        0       71        1   \n",
      "1         4       4       4       5  ...        4        0       56        4   \n",
      "2         4       5       5       5  ...        5        0       53        5   \n",
      "3         4       4       4       5  ...        2        2       51        1   \n",
      "4         1       5       5       5  ...        3        3       56        1   \n",
      "..      ...     ...     ...     ...  ...      ...      ...      ...      ...   \n",
      "273       5       5       4       5  ...        4        0       81        1   \n",
      "274       5       5       5       5  ...        5        0       75        4   \n",
      "275       5       5       5       5  ...        3        0       78        3   \n",
      "276       5       5       5       5  ...        1        0       61        4   \n",
      "277       4       5       4       5  ...        2        1        0        4   \n",
      "\n",
      "     X109_01  X109_02  X109_04  X109_06  X109_07  X109_08  \n",
      "0          3        3        3        1      162     49.0  \n",
      "1          4        1        1        1      145      0.0  \n",
      "2          5        3        4        3        0     24.0  \n",
      "3          3        5        4        4      142      NaN  \n",
      "4          2        3        3        4      129      NaN  \n",
      "..       ...      ...      ...      ...      ...      ...  \n",
      "273        3        3        3        1      159      0.0  \n",
      "274        3        4        2        1      150      0.0  \n",
      "275        1        3        4        3      149     36.0  \n",
      "276        1        1        3        1      162     42.0  \n",
      "277        4        3        5        5      141     33.0  \n",
      "\n",
      "[278 rows x 103 columns]>\n",
      "<bound method DataFrame.info of                                         Id  lft_jr lft_cat  g  JO_team  \\\n",
      "0     00126211-F966-4504-96B1-381095700047       8   00_08  0        0   \n",
      "1     00342356-280A-41F7-A962-076046C37F94      12   11_12  1        0   \n",
      "2     0041D06F-148C-46CB-9CFA-C3328CE2F51F       8   00_08  0        0   \n",
      "3     0052C942-DE60-495E-AC3F-D5632A04750A      10   09_10  0        0   \n",
      "4     0060C655-43CE-4EFD-9C19-301B010AFF06      12   11_12  0        0   \n",
      "...                                    ...     ...     ... ..      ...   \n",
      "3809                           SPEC_WD_008       9   09_10  0        0   \n",
      "3810                           SPEC_WD_009      11   11_12  0        0   \n",
      "3811                           SPEC_WD_010      11   11_12  0        0   \n",
      "3812                           SPEC_WD_011      10   09_10  1        0   \n",
      "3813                           SPEC_WD_013       8   00_08  0        0   \n",
      "\n",
      "      Finals  X01_01  X01_02  X01_03  X01_04  ...  X05_06  X05_07  X05_08  \\\n",
      "0          0       3       5       4       5  ...       4       4       5   \n",
      "1          0       4       1       4       4  ...       4       5       4   \n",
      "2          0       5       5       5       5  ...       5       5       4   \n",
      "3          0       3       5       3       5  ...       4       4       4   \n",
      "4          0       4       4       4       5  ...       5       3       4   \n",
      "...      ...     ...     ...     ...     ...  ...     ...     ...     ...   \n",
      "3809       0       4       4       5       4  ...       4       5       4   \n",
      "3810       0       3       4       4       4  ...       4       3       4   \n",
      "3811       0       3       4       3       5  ...       5       5       4   \n",
      "3812       0       2       3       4       5  ...       5       5       4   \n",
      "3813       0       4       5       5       5  ...       4       4       3   \n",
      "\n",
      "      X05_09  X05_10  X05_11  X05_12  X05_13  X05_14  X05_15  \n",
      "0          3       5       5       5       3       4       4  \n",
      "1          5       5       4       5       4       4       4  \n",
      "2          5       5       5       5       5       5       4  \n",
      "3          3       5       5       5       4       4       5  \n",
      "4          2       5       5       3       4       4       4  \n",
      "...      ...     ...     ...     ...     ...     ...     ...  \n",
      "3809       3       5       5       4       4       3       4  \n",
      "3810       4       5       4       5       5       4       5  \n",
      "3811       4       5       5       5       5       5       5  \n",
      "3812       4       5       5       5       5       5       5  \n",
      "3813       3       4       5       4       3       4       3  \n",
      "\n",
      "[3814 rows x 77 columns]>\n",
      "<bound method DataFrame.info of                                             Unnamed: 0             Unnamed: 1\n",
      "0                                              Thema 1                 Talent\n",
      "1    The following questionnaire includes questions...                    NaN\n",
      "2                                                  NaN                    NaN\n",
      "3                                                  NaN                    NaN\n",
      "4                                               Number  Variables / Statement\n",
      "..                                                 ...                    ...\n",
      "156                                                NaN                    NaN\n",
      "157                                                NaN                    NaN\n",
      "158                                                NaN                    NaN\n",
      "159                                                NaN                    NaN\n",
      "160                                                NaN                    NaN\n",
      "\n",
      "[161 rows x 2 columns]>\n"
     ]
    }
   ],
   "source": [
    "print(df_1.info)\n",
    "print(df_2.info)\n",
    "print(df_3.info)"
   ]
  },
  {
   "cell_type": "code",
   "execution_count": null,
   "id": "9aed4585",
   "metadata": {},
   "outputs": [],
   "source": []
  }
 ],
 "metadata": {
  "kernelspec": {
   "display_name": "Python 3",
   "language": "python",
   "name": "python3"
  },
  "language_info": {
   "codemirror_mode": {
    "name": "ipython",
    "version": 3
   },
   "file_extension": ".py",
   "mimetype": "text/x-python",
   "name": "python",
   "nbconvert_exporter": "python",
   "pygments_lexer": "ipython3",
   "version": "3.8.8"
  }
 },
 "nbformat": 4,
 "nbformat_minor": 5
}
